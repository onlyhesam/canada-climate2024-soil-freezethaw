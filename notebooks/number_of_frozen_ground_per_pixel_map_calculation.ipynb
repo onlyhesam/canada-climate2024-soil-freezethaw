{
 "cells": [
  {
   "cell_type": "code",
   "execution_count": 3,
   "metadata": {},
   "outputs": [],
   "source": [
    "import pandas as pd\n",
    "import matplotlib.pyplot as plt \n",
    "import ast  # To safely evaluate the string representation of tuples\n",
    "import numpy as np \n",
    "\n",
    "from scipy.stats import linregress, t\n",
    "from scipy import stats\n",
    "import statsmodels.api as sm\n",
    "import xlrd\n",
    "import os\n",
    "import pymannkendall as mk\n",
    "\n",
    "import json"
   ]
  },
  {
   "cell_type": "code",
   "execution_count": 4,
   "metadata": {},
   "outputs": [
    {
     "name": "stdout",
     "output_type": "stream",
     "text": [
      "              Grid  Year  Month  Frozen  Thawed  Transition\n",
      "0        (10, 216)  2000      1      31       0           0\n",
      "1        (10, 216)  2000      2      29       0           0\n",
      "2        (10, 216)  2000      3      31       0           0\n",
      "3        (10, 216)  2000      4      30       0           0\n",
      "4        (10, 216)  2000      5      29       0           2\n",
      "...            ...   ...    ...     ...     ...         ...\n",
      "6552379  (99, 409)  2021      8       0      31           0\n",
      "6552380  (99, 409)  2021      9       0      30           0\n",
      "6552381  (99, 409)  2021     10       0      31           0\n",
      "6552382  (99, 409)  2021     11       0      24           6\n",
      "6552383  (99, 409)  2021     12       0      25           6\n",
      "\n",
      "[6552384 rows x 6 columns]\n"
     ]
    }
   ],
   "source": [
    "csv_file_path = os.path.normpath(os.path.join('.','..','output', 'data','csv','general','number_of_thawed_frozen_trans_day_per_year_month_per_pixel_2000_2021.csv'))\n",
    "\n",
    "\n",
    "df = pd.read_csv(csv_file_path, header=0, names=['Grid', 'Year', 'Month', 'Status'])\n",
    "\n",
    "# Convert the JSON-like string to a dictionary and normalize\n",
    "df_exploded = df['Status'].apply(json.loads)  # Parse JSON strings\n",
    "df_expanded = pd.json_normalize(df_exploded)  # Expand into separate columns\n",
    "\n",
    "# Merge the expanded columns back to the original DataFrame\n",
    "df = pd.concat([df, df_expanded], axis=1)\n",
    "\n",
    "# Drop the original JSON column if no longer needed\n",
    "df = df.drop(columns=['Status'])\n",
    "\n",
    "# Rename the columns\n",
    "df = df.rename(columns={\n",
    "    'status_0_count': 'Frozen',\n",
    "    'status_1_count': 'Thawed'\n",
    "})\n",
    "\n",
    "\n",
    "\n",
    "df['Transition'] = df.status_2_count + df.status_3_count\n",
    "df.drop(columns=['status_2_count', 'status_3_count'], inplace=True)\n",
    "\n",
    "print(df)\n",
    "#################### CO\n",
    "# 0 = AM/PM frozen\n",
    "# 1 = AM/PM thawed\n",
    "# 2 = AM frozen, PM thawed (transitional)\n",
    "# 3 = AM thawed, PM frozen (inverse transitional)"
   ]
  },
  {
   "cell_type": "code",
   "execution_count": 7,
   "metadata": {},
   "outputs": [],
   "source": [
    "long_lat= pd.read_csv(os.path.join('.', '..', 'output', 'data', 'csv', 'general',  'lat_lon.csv'))\n",
    "df2 = long_lat.loc[:,['longitude', 'latitude', 'original_indices']]\n",
    "df2.rename(columns={'original_indices':'Grid'}, inplace=True)"
   ]
  },
  {
   "cell_type": "code",
   "execution_count": 9,
   "metadata": {},
   "outputs": [],
   "source": [
    "# Remove duplicates and set 'Grid' as the index\n",
    "df2 = df2.drop_duplicates(subset='Grid').set_index('Grid')"
   ]
  },
  {
   "cell_type": "code",
   "execution_count": 12,
   "metadata": {},
   "outputs": [],
   "source": [
    "main = pd.merge(df, df2, on='Grid', how='outer')"
   ]
  },
  {
   "cell_type": "code",
   "execution_count": 16,
   "metadata": {},
   "outputs": [],
   "source": [
    "main = main.dropna()"
   ]
  },
  {
   "cell_type": "code",
   "execution_count": 17,
   "metadata": {},
   "outputs": [
    {
     "data": {
      "text/html": [
       "<div>\n",
       "<style scoped>\n",
       "    .dataframe tbody tr th:only-of-type {\n",
       "        vertical-align: middle;\n",
       "    }\n",
       "\n",
       "    .dataframe tbody tr th {\n",
       "        vertical-align: top;\n",
       "    }\n",
       "\n",
       "    .dataframe thead th {\n",
       "        text-align: right;\n",
       "    }\n",
       "</style>\n",
       "<table border=\"1\" class=\"dataframe\">\n",
       "  <thead>\n",
       "    <tr style=\"text-align: right;\">\n",
       "      <th></th>\n",
       "      <th>Grid</th>\n",
       "      <th>Year</th>\n",
       "      <th>Month</th>\n",
       "      <th>Frozen</th>\n",
       "      <th>Thawed</th>\n",
       "      <th>Transition</th>\n",
       "      <th>longitude</th>\n",
       "      <th>latitude</th>\n",
       "    </tr>\n",
       "  </thead>\n",
       "  <tbody>\n",
       "    <tr>\n",
       "      <th>4</th>\n",
       "      <td>(10, 216)</td>\n",
       "      <td>2000.0</td>\n",
       "      <td>1.0</td>\n",
       "      <td>31.0</td>\n",
       "      <td>0.0</td>\n",
       "      <td>0.0</td>\n",
       "      <td>-123.644</td>\n",
       "      <td>74.2766</td>\n",
       "    </tr>\n",
       "    <tr>\n",
       "      <th>5</th>\n",
       "      <td>(10, 216)</td>\n",
       "      <td>2000.0</td>\n",
       "      <td>2.0</td>\n",
       "      <td>29.0</td>\n",
       "      <td>0.0</td>\n",
       "      <td>0.0</td>\n",
       "      <td>-123.644</td>\n",
       "      <td>74.2766</td>\n",
       "    </tr>\n",
       "    <tr>\n",
       "      <th>6</th>\n",
       "      <td>(10, 216)</td>\n",
       "      <td>2000.0</td>\n",
       "      <td>3.0</td>\n",
       "      <td>31.0</td>\n",
       "      <td>0.0</td>\n",
       "      <td>0.0</td>\n",
       "      <td>-123.644</td>\n",
       "      <td>74.2766</td>\n",
       "    </tr>\n",
       "    <tr>\n",
       "      <th>7</th>\n",
       "      <td>(10, 216)</td>\n",
       "      <td>2000.0</td>\n",
       "      <td>4.0</td>\n",
       "      <td>30.0</td>\n",
       "      <td>0.0</td>\n",
       "      <td>0.0</td>\n",
       "      <td>-123.644</td>\n",
       "      <td>74.2766</td>\n",
       "    </tr>\n",
       "    <tr>\n",
       "      <th>8</th>\n",
       "      <td>(10, 216)</td>\n",
       "      <td>2000.0</td>\n",
       "      <td>5.0</td>\n",
       "      <td>29.0</td>\n",
       "      <td>0.0</td>\n",
       "      <td>2.0</td>\n",
       "      <td>-123.644</td>\n",
       "      <td>74.2766</td>\n",
       "    </tr>\n",
       "  </tbody>\n",
       "</table>\n",
       "</div>"
      ],
      "text/plain": [
       "        Grid    Year  Month  Frozen  Thawed  Transition  longitude  latitude\n",
       "4  (10, 216)  2000.0    1.0    31.0     0.0         0.0   -123.644   74.2766\n",
       "5  (10, 216)  2000.0    2.0    29.0     0.0         0.0   -123.644   74.2766\n",
       "6  (10, 216)  2000.0    3.0    31.0     0.0         0.0   -123.644   74.2766\n",
       "7  (10, 216)  2000.0    4.0    30.0     0.0         0.0   -123.644   74.2766\n",
       "8  (10, 216)  2000.0    5.0    29.0     0.0         2.0   -123.644   74.2766"
      ]
     },
     "execution_count": 17,
     "metadata": {},
     "output_type": "execute_result"
    }
   ],
   "source": [
    "main.head()"
   ]
  },
  {
   "cell_type": "code",
   "execution_count": 18,
   "metadata": {},
   "outputs": [
    {
     "name": "stderr",
     "output_type": "stream",
     "text": [
      "/var/folders/1p/vx9zfzfn14z2b46713lr78z40000gn/T/ipykernel_94857/1684468578.py:5: SettingWithCopyWarning: \n",
      "A value is trying to be set on a copy of a slice from a DataFrame.\n",
      "Try using .loc[row_indexer,col_indexer] = value instead\n",
      "\n",
      "See the caveats in the documentation: https://pandas.pydata.org/pandas-docs/stable/user_guide/indexing.html#returning-a-view-versus-a-copy\n",
      "  main[\"Year\"] = pd.to_numeric(main[\"Year\"], errors=\"coerce\")\n",
      "/var/folders/1p/vx9zfzfn14z2b46713lr78z40000gn/T/ipykernel_94857/1684468578.py:6: SettingWithCopyWarning: \n",
      "A value is trying to be set on a copy of a slice from a DataFrame.\n",
      "Try using .loc[row_indexer,col_indexer] = value instead\n",
      "\n",
      "See the caveats in the documentation: https://pandas.pydata.org/pandas-docs/stable/user_guide/indexing.html#returning-a-view-versus-a-copy\n",
      "  main[\"Frozen\"] = pd.to_numeric(main[\"Frozen\"], errors=\"coerce\")\n"
     ]
    },
    {
     "name": "stdout",
     "output_type": "stream",
     "text": [
      "(520845, 3)\n"
     ]
    }
   ],
   "source": [
    "import pandas as pd\n",
    "import matplotlib.pyplot as plt\n",
    "\n",
    "# Ensure Year and Frozen columns are integers\n",
    "main[\"Year\"] = pd.to_numeric(main[\"Year\"], errors=\"coerce\")\n",
    "main[\"Frozen\"] = pd.to_numeric(main[\"Frozen\"], errors=\"coerce\")\n",
    "\n",
    "# Filter for years between 2001 and 2020\n",
    "filtered_df = main[(main[\"Year\"] >= 2000) & (main[\"Year\"] <= 2020)]\n",
    "\n",
    "\n",
    "# Group by Grid and Year to calculate total frozen days per year per pixel\n",
    "frozen_days_per_year = filtered_df.groupby([\"Grid\", \"Year\"], as_index=False).agg({\"Frozen\": \"sum\"})\n",
    "\n",
    "\n",
    "# Calculate the average frozen days per year for each pixel\n",
    "average_frozen_days = frozen_days_per_year.groupby(\"Grid\", as_index=False).agg({\"Frozen\": \"mean\"})\n",
    "print(frozen_days_per_year.shape)\n",
    "\n",
    "\n",
    "map_data = pd.merge(average_frozen_days, df2, on='Grid', how='outer')\n",
    "\n",
    "\n",
    "output_path = os.path.join('.', '..', 'output', 'data', 'csv', 'map_frozen_area',  'all_month_frozen_on_average_from_2000_2020_us_included.csv')\n",
    "map_data.to_csv(output_path)\n"
   ]
  }
 ],
 "metadata": {
  "kernelspec": {
   "display_name": "freeze_thaw_env",
   "language": "python",
   "name": "python3"
  },
  "language_info": {
   "codemirror_mode": {
    "name": "ipython",
    "version": 3
   },
   "file_extension": ".py",
   "mimetype": "text/x-python",
   "name": "python",
   "nbconvert_exporter": "python",
   "pygments_lexer": "ipython3",
   "version": "3.9.15"
  }
 },
 "nbformat": 4,
 "nbformat_minor": 2
}
